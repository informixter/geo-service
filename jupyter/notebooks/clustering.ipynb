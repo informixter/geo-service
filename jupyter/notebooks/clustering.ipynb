{
 "cells": [
  {
   "cell_type": "markdown",
   "source": [
    "# Поиск близких маршрутов\n",
    "Данный метод основан на кластеризации точек в пространстве по группам"
   ],
   "metadata": {
    "collapsed": false,
    "pycharm": {
     "name": "#%% md\n"
    }
   }
  },
  {
   "cell_type": "code",
   "id": "77e87e90",
   "metadata": {
    "pycharm": {
     "name": "#%%\n"
    }
   },
   "source": [
    "import sqlalchemy as sa\n",
    "import os\n",
    "import pandas as pd\n",
    "import numpy as np\n",
    "import matplotlib.pyplot as plt\n",
    "from sklearn.cluster import KMeans\n",
    "from sklearn.metrics.pairwise import cosine_similarity\n",
    "import geopandas as gp\n",
    "from shapely.geometry import Point\n",
    "from haversine import haversine, Unit\n",
    "from sklearn.feature_extraction.text import TfidfVectorizer\n"
   ],
   "execution_count": null,
   "outputs": []
  },
  {
   "cell_type": "code",
   "execution_count": 3,
   "id": "b5b1ce71",
   "metadata": {},
   "outputs": [],
   "source": [
    "# настройка для выбора кол-ва кластеров для пользователя\n",
    "n_clusters = 15"
   ]
  },
  {
   "cell_type": "code",
   "execution_count": 4,
   "id": "8c128bc7",
   "metadata": {},
   "outputs": [],
   "source": [
    "engine = sa.create_engine(os.environ['db'])\n"
   ]
  },
  {
   "cell_type": "markdown",
   "source": [
    "Так как у нас один пользователь, то мы берем все координаты из бд"
   ],
   "metadata": {
    "collapsed": false,
    "pycharm": {
     "name": "#%% md\n"
    }
   }
  },
  {
   "cell_type": "code",
   "execution_count": 5,
   "id": "66ea1c94",
   "metadata": {},
   "outputs": [
    {
     "data": {
      "text/plain": [
       "482"
      ]
     },
     "execution_count": 5,
     "metadata": {},
     "output_type": "execute_result"
    }
   ],
   "source": [
    "df_sql = pd.read_sql(\"select name,data from routes;\", engine)\n",
    "coords = []\n",
    "for i, row in df_sql.iterrows():\n",
    "    for p in row['data']['points']:\n",
    "        coords.append({\"lat\": p['coords']['latitude'], \"lon\": p['coords']['longitude']})\n",
    "        \n",
    "len(coords)\n"
   ]
  },
  {
   "cell_type": "markdown",
   "source": [
    "Формируем данные для GeoPandas"
   ],
   "metadata": {
    "collapsed": false,
    "pycharm": {
     "name": "#%% md\n"
    }
   }
  },
  {
   "cell_type": "code",
   "execution_count": 6,
   "id": "e9aad508",
   "metadata": {},
   "outputs": [
    {
     "data": {
      "text/html": [
       "<div>\n",
       "<style scoped>\n",
       "    .dataframe tbody tr th:only-of-type {\n",
       "        vertical-align: middle;\n",
       "    }\n",
       "\n",
       "    .dataframe tbody tr th {\n",
       "        vertical-align: top;\n",
       "    }\n",
       "\n",
       "    .dataframe thead th {\n",
       "        text-align: right;\n",
       "    }\n",
       "</style>\n",
       "<table border=\"1\" class=\"dataframe\">\n",
       "  <thead>\n",
       "    <tr style=\"text-align: right;\">\n",
       "      <th></th>\n",
       "      <th>lon</th>\n",
       "      <th>lat</th>\n",
       "      <th>geometry</th>\n",
       "    </tr>\n",
       "  </thead>\n",
       "  <tbody>\n",
       "    <tr>\n",
       "      <th>0</th>\n",
       "      <td>55.947454</td>\n",
       "      <td>54.726142</td>\n",
       "      <td>POINT (55.94745 54.72614)</td>\n",
       "    </tr>\n",
       "    <tr>\n",
       "      <th>1</th>\n",
       "      <td>55.947352</td>\n",
       "      <td>54.725924</td>\n",
       "      <td>POINT (55.94735 54.72592)</td>\n",
       "    </tr>\n",
       "    <tr>\n",
       "      <th>2</th>\n",
       "      <td>55.947249</td>\n",
       "      <td>54.725707</td>\n",
       "      <td>POINT (55.94725 54.72571)</td>\n",
       "    </tr>\n",
       "    <tr>\n",
       "      <th>3</th>\n",
       "      <td>55.947147</td>\n",
       "      <td>54.725490</td>\n",
       "      <td>POINT (55.94715 54.72549)</td>\n",
       "    </tr>\n",
       "    <tr>\n",
       "      <th>4</th>\n",
       "      <td>55.947044</td>\n",
       "      <td>54.725273</td>\n",
       "      <td>POINT (55.94704 54.72527)</td>\n",
       "    </tr>\n",
       "    <tr>\n",
       "      <th>...</th>\n",
       "      <td>...</td>\n",
       "      <td>...</td>\n",
       "      <td>...</td>\n",
       "    </tr>\n",
       "    <tr>\n",
       "      <th>477</th>\n",
       "      <td>55.951484</td>\n",
       "      <td>54.723560</td>\n",
       "      <td>POINT (55.95148 54.72356)</td>\n",
       "    </tr>\n",
       "    <tr>\n",
       "      <th>478</th>\n",
       "      <td>55.947069</td>\n",
       "      <td>54.724276</td>\n",
       "      <td>POINT (55.94707 54.72428)</td>\n",
       "    </tr>\n",
       "    <tr>\n",
       "      <th>479</th>\n",
       "      <td>55.946671</td>\n",
       "      <td>54.724657</td>\n",
       "      <td>POINT (55.94667 54.72466)</td>\n",
       "    </tr>\n",
       "    <tr>\n",
       "      <th>480</th>\n",
       "      <td>55.946701</td>\n",
       "      <td>54.724680</td>\n",
       "      <td>POINT (55.94670 54.72468)</td>\n",
       "    </tr>\n",
       "    <tr>\n",
       "      <th>481</th>\n",
       "      <td>55.946963</td>\n",
       "      <td>54.725023</td>\n",
       "      <td>POINT (55.94696 54.72502)</td>\n",
       "    </tr>\n",
       "  </tbody>\n",
       "</table>\n",
       "<p>482 rows × 3 columns</p>\n",
       "</div>"
      ],
      "text/plain": [
       "           lon        lat                   geometry\n",
       "0    55.947454  54.726142  POINT (55.94745 54.72614)\n",
       "1    55.947352  54.725924  POINT (55.94735 54.72592)\n",
       "2    55.947249  54.725707  POINT (55.94725 54.72571)\n",
       "3    55.947147  54.725490  POINT (55.94715 54.72549)\n",
       "4    55.947044  54.725273  POINT (55.94704 54.72527)\n",
       "..         ...        ...                        ...\n",
       "477  55.951484  54.723560  POINT (55.95148 54.72356)\n",
       "478  55.947069  54.724276  POINT (55.94707 54.72428)\n",
       "479  55.946671  54.724657  POINT (55.94667 54.72466)\n",
       "480  55.946701  54.724680  POINT (55.94670 54.72468)\n",
       "481  55.946963  54.725023  POINT (55.94696 54.72502)\n",
       "\n",
       "[482 rows x 3 columns]"
      ]
     },
     "execution_count": 6,
     "metadata": {},
     "output_type": "execute_result"
    }
   ],
   "source": [
    "df = pd.DataFrame(coords, columns=['lon','lat'])\n",
    "geometry = [Point(xy) for xy in zip(df.lon, df.lat)]\n",
    "\n",
    "gdf = gp.GeoDataFrame(df, geometry=geometry)\n",
    "gdf"
   ]
  },
  {
   "cell_type": "code",
   "source": [],
   "metadata": {
    "collapsed": false,
    "pycharm": {
     "name": "#%% md Проверим для понимания, что все в порядке\n"
    }
   },
   "execution_count": null,
   "outputs": []
  },
  {
   "cell_type": "code",
   "execution_count": 7,
   "id": "f9049baa",
   "metadata": {},
   "outputs": [
    {
     "data": {
      "image/png": "[encoded data removed]",
      "text/plain": [
       "<Figure size 1440x1080 with 1 Axes>"
      ]
     },
     "metadata": {
      "needs_background": "light"
     },
     "output_type": "display_data"
    }
   ],
   "source": [
    "f, ax = plt.subplots(1, figsize=(20, 15))\n",
    "ax.set_title(\"Ufa routes[center] bw\", fontsize=40)\n",
    "ax.set_axis_off()\n",
    "gdf.plot(ax=ax, color='black')\n",
    "plt.show()"
   ]
  },
  {
   "cell_type": "code",
   "execution_count": 8,
   "id": "47dffed1",
   "metadata": {},
   "outputs": [],
   "source": [
    "# формируем массив\n",
    "a=pd.Series(gdf['geometry'].apply(lambda p: p.x))\n",
    "b=pd.Series(gdf['geometry'].apply(lambda p: p.y))\n",
    "X=np.column_stack((a,b))"
   ]
  },
  {
   "cell_type": "markdown",
   "source": [
    "Попытка определить оптимальное кол-во кластеров, но позже в ходе эксперементов результат был точнее при большем кол-ве"
   ],
   "metadata": {
    "collapsed": false,
    "pycharm": {
     "name": "#%% md\n"
    }
   }
  },
  {
   "cell_type": "code",
   "execution_count": 9,
   "id": "5b6344c1",
   "metadata": {},
   "outputs": [
    {
     "data": {
      "image/png": "[encoded data removed]",
      "text/plain": [
       "<Figure size 432x288 with 1 Axes>"
      ]
     },
     "metadata": {
      "needs_background": "light"
     },
     "output_type": "display_data"
    }
   ],
   "source": [
    "wcss = []\n",
    "for i in range(1, 14):\n",
    "    kmeans = KMeans(n_clusters = i, init = 'k-means++', random_state = 42)\n",
    "    kmeans.fit(X)\n",
    "    wcss.append(kmeans.inertia_)\n",
    "plt.plot(range(1, 14), wcss)\n",
    "plt.xlabel('Кол-во кластеров')\n",
    "plt.ylabel('Сумма квадратов')\n",
    "plt.show()"
   ]
  },
  {
   "cell_type": "markdown",
   "source": [
    "Создадим модель"
   ],
   "metadata": {
    "collapsed": false,
    "pycharm": {
     "name": "#%% md\n"
    }
   }
  },
  {
   "cell_type": "code",
   "execution_count": 10,
   "id": "1b9b9fd5",
   "metadata": {},
   "outputs": [],
   "source": [
    "kmeans = KMeans(n_clusters = n_clusters, init = 'k-means++', random_state = 5,  max_iter=400)\n",
    "y_kmeans = kmeans.fit_predict(X)\n",
    "k=pd.DataFrame(y_kmeans, columns=['cluster'])\n",
    "gdf=gdf.join(k)"
   ]
  },
  {
   "cell_type": "markdown",
   "source": [
    "Посмотрим что получилось в цвете"
   ],
   "metadata": {
    "collapsed": false,
    "pycharm": {
     "name": "#%% md\n"
    }
   }
  },
  {
   "cell_type": "code",
   "execution_count": 11,
   "id": "1abf446d",
   "metadata": {},
   "outputs": [
    {
     "data": {
      "image/png": "[encoded data removed]",
      "text/plain": [
       "<Figure size 1440x1080 with 1 Axes>"
      ]
     },
     "metadata": {
      "needs_background": "light"
     },
     "output_type": "display_data"
    }
   ],
   "source": [
    "f, ax = plt.subplots(1, figsize=(20, 15))\n",
    "ax.set_title(\"Ufa routes[center] color n_clusters: {}\".format(n_clusters), fontsize=40)\n",
    "ax.set_axis_off()\n",
    "gdf.plot(column='cluster',cmap='Set2', ax=ax, markersize=80)\n",
    "plt.show()"
   ]
  },
  {
   "cell_type": "markdown",
   "source": [
    "Разработка метода получения растояния в метрах между координатой и центром кластера"
   ],
   "metadata": {
    "collapsed": false,
    "pycharm": {
     "name": "#%% md\n"
    }
   }
  },
  {
   "cell_type": "code",
   "execution_count": 13,
   "id": "bd2bd168",
   "metadata": {},
   "outputs": [
    {
     "data": {
      "text/plain": [
       "56.20781858926418"
      ]
     },
     "execution_count": 13,
     "metadata": {},
     "output_type": "execute_result"
    }
   ],
   "source": [
    "user_coord = [55.94745399, 54.72614154]\n",
    "pr = kmeans.predict([user_coord])\n",
    "get_claster_center = kmeans.cluster_centers_[pr[0]]\n",
    "get_claster_center\n",
    "\n",
    "user = (user_coord[1], user_coord[0]) # (lat, lon)\n",
    "center_k = (get_claster_center[1], get_claster_center[0])\n",
    "meters = haversine(center_k, user, Unit.METERS)\n",
    "meters"
   ]
  },
  {
   "cell_type": "code",
   "execution_count": 14,
   "id": "fa1e50a0",
   "metadata": {},
   "outputs": [
    {
     "data": {
      "text/plain": [
       "0"
      ]
     },
     "execution_count": 14,
     "metadata": {},
     "output_type": "execute_result"
    }
   ],
   "source": [
    "# метод получения номера кластера\n",
    "def get_cluster_number(user_coord, kmeans):\n",
    "    pr = kmeans.predict([user_coord])\n",
    "    return pr[0]\n",
    "\n",
    "# потестим\n",
    "get_cluster_number(user_coord, kmeans)"
   ]
  },
  {
   "cell_type": "markdown",
   "source": [
    "# Поиск схожих маршрутов\n",
    "Тут применена лога разделение на кластеры и построение маршрута прохождения между кластерами.\n",
    "Строить будем через TF-IDF, пожтому важно пропустить повтроения или застой на кластере, нужны только переходы."
   ],
   "metadata": {
    "collapsed": false,
    "pycharm": {
     "name": "#%% md\n"
    }
   }
  },
  {
   "cell_type": "code",
   "execution_count": 15,
   "id": "f50e2aee",
   "metadata": {},
   "outputs": [
    {
     "data": {
      "text/plain": [
       "[['cluster1', '0136121937'],\n",
       " ['cluster2', '7391126130'],\n",
       " ['cluster3', '7391126130'],\n",
       " ['Kinbery 4 basic', '93711511'],\n",
       " ['Kinbery 4 rare', '9311511'],\n",
       " ['Kinbery 1 basic', '761301411'],\n",
       " ['Kinbery 1 rare', '7601411'],\n",
       " ['Kinbery 2 basic', '111407'],\n",
       " ['Kinbery 2 rare', '1107'],\n",
       " ['Kinbery 3 basic', '81413079'],\n",
       " ['Kinbery 3 rare', '814079'],\n",
       " ['Kinbery 5 basic', '01361937'],\n",
       " ['Kinbery 5 rare', '0136121937'],\n",
       " ['snap test 1', '71214101314136'],\n",
       " ['snap test 2', '73911261310'],\n",
       " ['snap test 3', '1028'],\n",
       " ['optimized', '39112613039113']]"
      ]
     },
     "execution_count": 15,
     "metadata": {},
     "output_type": "execute_result"
    }
   ],
   "source": [
    "res = []\n",
    "train_for_tfidf = []\n",
    "for i, row in df_sql.iterrows(): # проходим по всем маршрутам\n",
    "    cls = []\n",
    "    for p in row['data']['points']: # проходим по всем точкам в маршруте\n",
    "        coord_u = [p['coords']['longitude'], p['coords']['latitude']]\n",
    "        cl_n = get_cluster_number(coord_u, kmeans) # получаем номер кластера\n",
    "        cls.append(int(cl_n))\n",
    "    # сохранем только переходы\n",
    "    valid_in_array = []\n",
    "    start_point = cls[0]\n",
    "    z = 0\n",
    "    for i, cluster_number in enumerate(cls):\n",
    "        if i == 0:\n",
    "            valid_in_array.append(str(cluster_number))\n",
    "            z += 1\n",
    "            continue\n",
    "        if start_point == cluster_number:\n",
    "            continue\n",
    "        valid_in_array.append(str(cluster_number))\n",
    "        z += 1\n",
    "        start_point = cluster_number\n",
    "        w = \"\".join(valid_in_array) # кодируем маршрут в виде последовательностей\n",
    "    train_for_tfidf.append(w)\n",
    "    res.append([row['name'], w])\n",
    "res"
   ]
  },
  {
   "cell_type": "markdown",
   "source": [
    "#TF-IDF\n",
    "Cоздаем векторное пространство, на всех данных, что у нас есть."
   ],
   "metadata": {
    "collapsed": false,
    "pycharm": {
     "name": "#%% md\n"
    }
   }
  },
  {
   "cell_type": "code",
   "execution_count": 16,
   "id": "2f850288",
   "metadata": {},
   "outputs": [],
   "source": [
    "tfidfvectorizer = TfidfVectorizer(analyzer='char')\n",
    "tfidf_wm = tfidfvectorizer.fit(train_for_tfidf)"
   ]
  },
  {
   "cell_type": "markdown",
   "source": [
    "# Проверка\n",
    "Поиск схожего маршрута. Превращем текущий маршрут в векторное пространство, далее через косинусное подобие изем близкие вектора"
   ],
   "metadata": {
    "collapsed": false,
    "pycharm": {
     "name": "#%% md\n"
    }
   }
  },
  {
   "cell_type": "code",
   "execution_count": 19,
   "id": "382347a3",
   "metadata": {},
   "outputs": [
    {
     "data": {
      "text/html": [
       "<div>\n",
       "<style scoped>\n",
       "    .dataframe tbody tr th:only-of-type {\n",
       "        vertical-align: middle;\n",
       "    }\n",
       "\n",
       "    .dataframe tbody tr th {\n",
       "        vertical-align: top;\n",
       "    }\n",
       "\n",
       "    .dataframe thead th {\n",
       "        text-align: right;\n",
       "    }\n",
       "</style>\n",
       "<table border=\"1\" class=\"dataframe\">\n",
       "  <thead>\n",
       "    <tr style=\"text-align: right;\">\n",
       "      <th></th>\n",
       "      <th>name</th>\n",
       "      <th>dst</th>\n",
       "      <th>route_code</th>\n",
       "    </tr>\n",
       "  </thead>\n",
       "  <tbody>\n",
       "    <tr>\n",
       "      <th>0</th>\n",
       "      <td>cluster1</td>\n",
       "      <td>1.000000</td>\n",
       "      <td>0136121937</td>\n",
       "    </tr>\n",
       "    <tr>\n",
       "      <th>1</th>\n",
       "      <td>cluster2</td>\n",
       "      <td>1.000000</td>\n",
       "      <td>7391126130</td>\n",
       "    </tr>\n",
       "    <tr>\n",
       "      <th>2</th>\n",
       "      <td>cluster3</td>\n",
       "      <td>1.000000</td>\n",
       "      <td>7391126130</td>\n",
       "    </tr>\n",
       "    <tr>\n",
       "      <th>3</th>\n",
       "      <td>Kinbery 5 rare</td>\n",
       "      <td>1.000000</td>\n",
       "      <td>0136121937</td>\n",
       "    </tr>\n",
       "    <tr>\n",
       "      <th>4</th>\n",
       "      <td>snap test 2</td>\n",
       "      <td>0.990019</td>\n",
       "      <td>73911261310</td>\n",
       "    </tr>\n",
       "    <tr>\n",
       "      <th>5</th>\n",
       "      <td>optimized</td>\n",
       "      <td>0.944954</td>\n",
       "      <td>39112613039113</td>\n",
       "    </tr>\n",
       "    <tr>\n",
       "      <th>6</th>\n",
       "      <td>Kinbery 5 basic</td>\n",
       "      <td>0.926548</td>\n",
       "      <td>01361937</td>\n",
       "    </tr>\n",
       "    <tr>\n",
       "      <th>7</th>\n",
       "      <td>snap test 1</td>\n",
       "      <td>0.795615</td>\n",
       "      <td>71214101314136</td>\n",
       "    </tr>\n",
       "    <tr>\n",
       "      <th>8</th>\n",
       "      <td>Kinbery 1 basic</td>\n",
       "      <td>0.781879</td>\n",
       "      <td>761301411</td>\n",
       "    </tr>\n",
       "    <tr>\n",
       "      <th>9</th>\n",
       "      <td>Kinbery 4 basic</td>\n",
       "      <td>0.692135</td>\n",
       "      <td>93711511</td>\n",
       "    </tr>\n",
       "    <tr>\n",
       "      <th>10</th>\n",
       "      <td>Kinbery 2 rare</td>\n",
       "      <td>0.661030</td>\n",
       "      <td>1107</td>\n",
       "    </tr>\n",
       "    <tr>\n",
       "      <th>11</th>\n",
       "      <td>Kinbery 4 rare</td>\n",
       "      <td>0.656980</td>\n",
       "      <td>9311511</td>\n",
       "    </tr>\n",
       "    <tr>\n",
       "      <th>12</th>\n",
       "      <td>Kinbery 1 rare</td>\n",
       "      <td>0.650799</td>\n",
       "      <td>7601411</td>\n",
       "    </tr>\n",
       "    <tr>\n",
       "      <th>13</th>\n",
       "      <td>Kinbery 3 basic</td>\n",
       "      <td>0.616385</td>\n",
       "      <td>81413079</td>\n",
       "    </tr>\n",
       "    <tr>\n",
       "      <th>14</th>\n",
       "      <td>Kinbery 2 basic</td>\n",
       "      <td>0.584428</td>\n",
       "      <td>111407</td>\n",
       "    </tr>\n",
       "    <tr>\n",
       "      <th>15</th>\n",
       "      <td>snap test 3</td>\n",
       "      <td>0.415636</td>\n",
       "      <td>1028</td>\n",
       "    </tr>\n",
       "    <tr>\n",
       "      <th>16</th>\n",
       "      <td>Kinbery 3 rare</td>\n",
       "      <td>0.379472</td>\n",
       "      <td>814079</td>\n",
       "    </tr>\n",
       "  </tbody>\n",
       "</table>\n",
       "</div>"
      ],
      "text/plain": [
       "               name       dst      route_code\n",
       "0          cluster1  1.000000      0136121937\n",
       "1          cluster2  1.000000      7391126130\n",
       "2          cluster3  1.000000      7391126130\n",
       "3    Kinbery 5 rare  1.000000      0136121937\n",
       "4       snap test 2  0.990019     73911261310\n",
       "5         optimized  0.944954  39112613039113\n",
       "6   Kinbery 5 basic  0.926548        01361937\n",
       "7       snap test 1  0.795615  71214101314136\n",
       "8   Kinbery 1 basic  0.781879       761301411\n",
       "9   Kinbery 4 basic  0.692135        93711511\n",
       "10   Kinbery 2 rare  0.661030            1107\n",
       "11   Kinbery 4 rare  0.656980         9311511\n",
       "12   Kinbery 1 rare  0.650799         7601411\n",
       "13  Kinbery 3 basic  0.616385        81413079\n",
       "14  Kinbery 2 basic  0.584428          111407\n",
       "15      snap test 3  0.415636            1028\n",
       "16   Kinbery 3 rare  0.379472          814079"
      ]
     },
     "execution_count": 19,
     "metadata": {},
     "output_type": "execute_result"
    }
   ],
   "source": [
    "search2 = \"7391126130\"\n",
    "dst_euclidean = []\n",
    "for r in res:\n",
    "    s1 = tfidf_wm.transform([r[1]]).todense() # получаем вектор маршрута\n",
    "    s2 = tfidf_wm.transform([search2]).todense() # получаем искомого маршрута\n",
    "    dst = cosine_similarity(np.asarray(s1), np.asarray(s2)) # Косинусное сходство\n",
    "    dst_euclidean.append({\"name\":r[0], \"dst\":dst[0][0], \"route_code\": r[1]})\n",
    "\n",
    "newlist = sorted(dst_euclidean, key=lambda d: d['dst'], reverse=True) \n",
    "pd.DataFrame(newlist)"
   ]
  },
  {
   "cell_type": "markdown",
   "source": [],
   "metadata": {
    "collapsed": false
   }
  }
 ],
 "metadata": {
  "kernelspec": {
   "display_name": "Python 3 (ipykernel)",
   "language": "python",
   "name": "python3"
  },
  "language_info": {
   "codemirror_mode": {
    "name": "ipython",
    "version": 3
   },
   "file_extension": ".py",
   "mimetype": "text/x-python",
   "name": "python",
   "nbconvert_exporter": "python",
   "pygments_lexer": "ipython3",
   "version": "3.7.12"
  }
 },
 "nbformat": 4,
 "nbformat_minor": 5
}